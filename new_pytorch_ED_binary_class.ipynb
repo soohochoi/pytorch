{
 "cells": [
  {
   "cell_type": "code",
   "execution_count": 1,
   "id": "initial_id",
   "metadata": {
    "collapsed": true,
    "ExecuteTime": {
     "end_time": "2023-12-28T04:18:10.527198200Z",
     "start_time": "2023-12-28T04:18:08.203073300Z"
    }
   },
   "outputs": [],
   "source": [
    "import pandas as pd\n",
    "import pickle\n",
    "import numpy as np\n",
    "#from tqdm import tqdm\n",
    "import torch\n",
    "from torch.utils.data import TensorDataset, DataLoader\n",
    "import torch.nn as nn\n",
    "import torch.nn.functional as F"
   ]
  },
  {
   "cell_type": "code",
   "execution_count": 26,
   "outputs": [],
   "source": [
    "df_1=pd.read_csv('ED_3hour_forward.csv')"
   ],
   "metadata": {
    "collapsed": false,
    "ExecuteTime": {
     "end_time": "2023-12-28T04:50:18.227000100Z",
     "start_time": "2023-12-28T04:49:30.727384300Z"
    }
   },
   "id": "fc2de7f8f41cebdc"
  },
  {
   "cell_type": "code",
   "execution_count": 27,
   "outputs": [],
   "source": [
    "name=\"label_after_1hour\""
   ],
   "metadata": {
    "collapsed": false,
    "ExecuteTime": {
     "end_time": "2023-12-28T04:50:18.266166900Z",
     "start_time": "2023-12-28T04:50:18.228976200Z"
    }
   },
   "id": "3c0ce61f8aac55f0"
  },
  {
   "cell_type": "code",
   "execution_count": 28,
   "outputs": [],
   "source": [
    "#df_1=df_1[~df_1['stay_id'].isin(df_1[df_1[name]==2]['stay_id'].unique())]"
   ],
   "metadata": {
    "collapsed": false,
    "ExecuteTime": {
     "end_time": "2023-12-28T04:50:18.270091800Z",
     "start_time": "2023-12-28T04:50:18.242940800Z"
    }
   },
   "id": "5a9e151a2463a2a2"
  },
  {
   "cell_type": "code",
   "execution_count": 29,
   "outputs": [],
   "source": [
    "df_1.loc[df_1[name] == 1, name] = 0\n",
    "df_1.loc[df_1[name] == 2, name] = 0\n",
    "df_1.loc[df_1[name] == 3, name] = 1"
   ],
   "metadata": {
    "collapsed": false,
    "ExecuteTime": {
     "end_time": "2023-12-28T04:50:18.336083800Z",
     "start_time": "2023-12-28T04:50:18.259931700Z"
    }
   },
   "id": "4886f14ee67ae2cc"
  },
  {
   "cell_type": "code",
   "execution_count": 30,
   "outputs": [],
   "source": [
    "from sklearn.model_selection import train_test_split\n",
    "\n",
    "icu_samples = df_1[df_1[name] == 1]\n",
    "\n",
    "icu_stay_id = icu_samples['stay_id'].unique()\n",
    "\n",
    "train_icu_stay_id, icu_temp_stay_id = train_test_split(icu_stay_id, test_size=0.2, random_state=42)\n",
    "test_icu_stay_id, val_icu_stay_id = train_test_split(icu_temp_stay_id, test_size=0.2, random_state=42)\n",
    "\n",
    "train_icu_data = df_1[df_1['stay_id'].isin(train_icu_stay_id)]\n",
    "test_icu_data = df_1[df_1['stay_id'].isin(test_icu_stay_id)]\n",
    "val_icu_data = df_1[df_1['stay_id'].isin(val_icu_stay_id)]\n",
    "\n",
    "nor_data=df_1[~df_1['stay_id'].isin(icu_stay_id)]\n",
    "\n",
    "train_nor_stay_id, nor_temp_stay_id = train_test_split(nor_data['stay_id'].unique(), test_size=0.2, random_state=42)\n",
    "test_nor_stay_id, val_nor_stay_id = train_test_split(nor_temp_stay_id, test_size=0.2, random_state=42)\n",
    "\n",
    "train_nor_data = df_1[df_1['stay_id'].isin(train_nor_stay_id)]\n",
    "test_nor_data = df_1[df_1['stay_id'].isin(test_nor_stay_id)]\n",
    "val_nor_data = df_1[df_1['stay_id'].isin(val_nor_stay_id)]\n",
    "\n",
    "train_df = pd.concat([train_icu_data, train_nor_data ])\n",
    "test_df = pd.concat([test_icu_data, test_nor_data])\n",
    "val_df = pd.concat([val_icu_data, val_nor_data])"
   ],
   "metadata": {
    "collapsed": false,
    "ExecuteTime": {
     "end_time": "2023-12-28T04:50:24.826877Z",
     "start_time": "2023-12-28T04:50:18.324827900Z"
    }
   },
   "id": "e2752743b515d664"
  },
  {
   "cell_type": "code",
   "execution_count": 31,
   "outputs": [],
   "source": [
    "train_df=train_df.sort_index()\n",
    "test_df=test_df.sort_index()\n",
    "val_df=val_df.sort_index()"
   ],
   "metadata": {
    "collapsed": false,
    "ExecuteTime": {
     "end_time": "2023-12-28T04:50:27.453354100Z",
     "start_time": "2023-12-28T04:50:24.829867400Z"
    }
   },
   "id": "1ca99dc4dcf9a17c"
  },
  {
   "cell_type": "code",
   "execution_count": 32,
   "outputs": [
    {
     "data": {
      "text/plain": "            stay_id                 time  max_temp    max_hr  max_resp  \\\n24       30000038.0  2152-12-07 17:37:00 -1.175465 -1.718244 -0.016748   \n25       30000038.0  2152-12-07 18:37:00 -1.175465 -1.718244 -0.016748   \n26       30000038.0  2152-12-07 19:37:00 -1.175465 -0.348524  0.659705   \n27       30000038.0                    0  0.000000  0.000000  0.000000   \n28       30000038.0                    0  0.000000  0.000000  0.000000   \n...             ...                  ...       ...       ...       ...   \n7149115  39999933.0                    0  0.000000  0.000000  0.000000   \n7149116  39999933.0                    0  0.000000  0.000000  0.000000   \n7149117  39999933.0                    0  0.000000  0.000000  0.000000   \n7149118  39999933.0                    0  0.000000  0.000000  0.000000   \n7149119  39999933.0                    0  0.000000  0.000000  0.000000   \n\n         max_o2sat   max_sbp   max_dbp  min_temp    min_hr  ...  \\\n24       -1.697931  0.380412 -0.267223  -1.17796 -1.656226  ...   \n25       -1.697931  0.380412 -0.267223  -1.17796 -1.656226  ...   \n26       -1.201637  0.380412 -0.267223  -1.17796 -1.656226  ...   \n27        0.000000  0.000000  0.000000   0.00000  0.000000  ...   \n28        0.000000  0.000000  0.000000   0.00000  0.000000  ...   \n...            ...       ...       ...       ...       ...  ...   \n7149115   0.000000  0.000000  0.000000   0.00000  0.000000  ...   \n7149116   0.000000  0.000000  0.000000   0.00000  0.000000  ...   \n7149117   0.000000  0.000000  0.000000   0.00000  0.000000  ...   \n7149118   0.000000  0.000000  0.000000   0.00000  0.000000  ...   \n7149119   0.000000  0.000000  0.000000   0.00000  0.000000  ...   \n\n         label_after_6hour  gender_F  gender_M  race_Black  race_Other  \\\n24                     2.0  0.876349 -0.876349   -0.526599   -0.481254   \n25                     2.0  0.876349 -0.876349   -0.526599   -0.481254   \n26                     2.0  0.876349 -0.876349   -0.526599   -0.481254   \n27                     0.0  0.000000  0.000000    0.000000    0.000000   \n28                     0.0  0.000000  0.000000    0.000000    0.000000   \n...                    ...       ...       ...         ...         ...   \n7149115                0.0  0.000000  0.000000    0.000000    0.000000   \n7149116                0.0  0.000000  0.000000    0.000000    0.000000   \n7149117                0.0  0.000000  0.000000    0.000000    0.000000   \n7149118                0.0  0.000000  0.000000    0.000000    0.000000   \n7149119                0.0  0.000000  0.000000    0.000000    0.000000   \n\n         race_White  arrival_transport_AMBULANCE  \\\n24         0.825292                     1.242434   \n25         0.825292                     1.242434   \n26         0.825292                     1.242434   \n27         0.000000                     0.000000   \n28         0.000000                     0.000000   \n...             ...                          ...   \n7149115    0.000000                     0.000000   \n7149116    0.000000                     0.000000   \n7149117    0.000000                     0.000000   \n7149118    0.000000                     0.000000   \n7149119    0.000000                     0.000000   \n\n         arrival_transport_HELICOPTER  arrival_transport_OTHER  \\\n24                            -0.0278                -0.110842   \n25                            -0.0278                -0.110842   \n26                            -0.0278                -0.110842   \n27                             0.0000                 0.000000   \n28                             0.0000                 0.000000   \n...                               ...                      ...   \n7149115                        0.0000                 0.000000   \n7149116                        0.0000                 0.000000   \n7149117                        0.0000                 0.000000   \n7149118                        0.0000                 0.000000   \n7149119                        0.0000                 0.000000   \n\n         arrival_transport_WALK IN  \n24                       -1.209452  \n25                       -1.209452  \n26                       -1.209452  \n27                        0.000000  \n28                        0.000000  \n...                            ...  \n7149115                   0.000000  \n7149116                   0.000000  \n7149117                   0.000000  \n7149118                   0.000000  \n7149119                   0.000000  \n\n[5719296 rows x 122 columns]",
      "text/html": "<div>\n<style scoped>\n    .dataframe tbody tr th:only-of-type {\n        vertical-align: middle;\n    }\n\n    .dataframe tbody tr th {\n        vertical-align: top;\n    }\n\n    .dataframe thead th {\n        text-align: right;\n    }\n</style>\n<table border=\"1\" class=\"dataframe\">\n  <thead>\n    <tr style=\"text-align: right;\">\n      <th></th>\n      <th>stay_id</th>\n      <th>time</th>\n      <th>max_temp</th>\n      <th>max_hr</th>\n      <th>max_resp</th>\n      <th>max_o2sat</th>\n      <th>max_sbp</th>\n      <th>max_dbp</th>\n      <th>min_temp</th>\n      <th>min_hr</th>\n      <th>...</th>\n      <th>label_after_6hour</th>\n      <th>gender_F</th>\n      <th>gender_M</th>\n      <th>race_Black</th>\n      <th>race_Other</th>\n      <th>race_White</th>\n      <th>arrival_transport_AMBULANCE</th>\n      <th>arrival_transport_HELICOPTER</th>\n      <th>arrival_transport_OTHER</th>\n      <th>arrival_transport_WALK IN</th>\n    </tr>\n  </thead>\n  <tbody>\n    <tr>\n      <th>24</th>\n      <td>30000038.0</td>\n      <td>2152-12-07 17:37:00</td>\n      <td>-1.175465</td>\n      <td>-1.718244</td>\n      <td>-0.016748</td>\n      <td>-1.697931</td>\n      <td>0.380412</td>\n      <td>-0.267223</td>\n      <td>-1.17796</td>\n      <td>-1.656226</td>\n      <td>...</td>\n      <td>2.0</td>\n      <td>0.876349</td>\n      <td>-0.876349</td>\n      <td>-0.526599</td>\n      <td>-0.481254</td>\n      <td>0.825292</td>\n      <td>1.242434</td>\n      <td>-0.0278</td>\n      <td>-0.110842</td>\n      <td>-1.209452</td>\n    </tr>\n    <tr>\n      <th>25</th>\n      <td>30000038.0</td>\n      <td>2152-12-07 18:37:00</td>\n      <td>-1.175465</td>\n      <td>-1.718244</td>\n      <td>-0.016748</td>\n      <td>-1.697931</td>\n      <td>0.380412</td>\n      <td>-0.267223</td>\n      <td>-1.17796</td>\n      <td>-1.656226</td>\n      <td>...</td>\n      <td>2.0</td>\n      <td>0.876349</td>\n      <td>-0.876349</td>\n      <td>-0.526599</td>\n      <td>-0.481254</td>\n      <td>0.825292</td>\n      <td>1.242434</td>\n      <td>-0.0278</td>\n      <td>-0.110842</td>\n      <td>-1.209452</td>\n    </tr>\n    <tr>\n      <th>26</th>\n      <td>30000038.0</td>\n      <td>2152-12-07 19:37:00</td>\n      <td>-1.175465</td>\n      <td>-0.348524</td>\n      <td>0.659705</td>\n      <td>-1.201637</td>\n      <td>0.380412</td>\n      <td>-0.267223</td>\n      <td>-1.17796</td>\n      <td>-1.656226</td>\n      <td>...</td>\n      <td>2.0</td>\n      <td>0.876349</td>\n      <td>-0.876349</td>\n      <td>-0.526599</td>\n      <td>-0.481254</td>\n      <td>0.825292</td>\n      <td>1.242434</td>\n      <td>-0.0278</td>\n      <td>-0.110842</td>\n      <td>-1.209452</td>\n    </tr>\n    <tr>\n      <th>27</th>\n      <td>30000038.0</td>\n      <td>0</td>\n      <td>0.000000</td>\n      <td>0.000000</td>\n      <td>0.000000</td>\n      <td>0.000000</td>\n      <td>0.000000</td>\n      <td>0.000000</td>\n      <td>0.00000</td>\n      <td>0.000000</td>\n      <td>...</td>\n      <td>0.0</td>\n      <td>0.000000</td>\n      <td>0.000000</td>\n      <td>0.000000</td>\n      <td>0.000000</td>\n      <td>0.000000</td>\n      <td>0.000000</td>\n      <td>0.0000</td>\n      <td>0.000000</td>\n      <td>0.000000</td>\n    </tr>\n    <tr>\n      <th>28</th>\n      <td>30000038.0</td>\n      <td>0</td>\n      <td>0.000000</td>\n      <td>0.000000</td>\n      <td>0.000000</td>\n      <td>0.000000</td>\n      <td>0.000000</td>\n      <td>0.000000</td>\n      <td>0.00000</td>\n      <td>0.000000</td>\n      <td>...</td>\n      <td>0.0</td>\n      <td>0.000000</td>\n      <td>0.000000</td>\n      <td>0.000000</td>\n      <td>0.000000</td>\n      <td>0.000000</td>\n      <td>0.000000</td>\n      <td>0.0000</td>\n      <td>0.000000</td>\n      <td>0.000000</td>\n    </tr>\n    <tr>\n      <th>...</th>\n      <td>...</td>\n      <td>...</td>\n      <td>...</td>\n      <td>...</td>\n      <td>...</td>\n      <td>...</td>\n      <td>...</td>\n      <td>...</td>\n      <td>...</td>\n      <td>...</td>\n      <td>...</td>\n      <td>...</td>\n      <td>...</td>\n      <td>...</td>\n      <td>...</td>\n      <td>...</td>\n      <td>...</td>\n      <td>...</td>\n      <td>...</td>\n      <td>...</td>\n      <td>...</td>\n    </tr>\n    <tr>\n      <th>7149115</th>\n      <td>39999933.0</td>\n      <td>0</td>\n      <td>0.000000</td>\n      <td>0.000000</td>\n      <td>0.000000</td>\n      <td>0.000000</td>\n      <td>0.000000</td>\n      <td>0.000000</td>\n      <td>0.00000</td>\n      <td>0.000000</td>\n      <td>...</td>\n      <td>0.0</td>\n      <td>0.000000</td>\n      <td>0.000000</td>\n      <td>0.000000</td>\n      <td>0.000000</td>\n      <td>0.000000</td>\n      <td>0.000000</td>\n      <td>0.0000</td>\n      <td>0.000000</td>\n      <td>0.000000</td>\n    </tr>\n    <tr>\n      <th>7149116</th>\n      <td>39999933.0</td>\n      <td>0</td>\n      <td>0.000000</td>\n      <td>0.000000</td>\n      <td>0.000000</td>\n      <td>0.000000</td>\n      <td>0.000000</td>\n      <td>0.000000</td>\n      <td>0.00000</td>\n      <td>0.000000</td>\n      <td>...</td>\n      <td>0.0</td>\n      <td>0.000000</td>\n      <td>0.000000</td>\n      <td>0.000000</td>\n      <td>0.000000</td>\n      <td>0.000000</td>\n      <td>0.000000</td>\n      <td>0.0000</td>\n      <td>0.000000</td>\n      <td>0.000000</td>\n    </tr>\n    <tr>\n      <th>7149117</th>\n      <td>39999933.0</td>\n      <td>0</td>\n      <td>0.000000</td>\n      <td>0.000000</td>\n      <td>0.000000</td>\n      <td>0.000000</td>\n      <td>0.000000</td>\n      <td>0.000000</td>\n      <td>0.00000</td>\n      <td>0.000000</td>\n      <td>...</td>\n      <td>0.0</td>\n      <td>0.000000</td>\n      <td>0.000000</td>\n      <td>0.000000</td>\n      <td>0.000000</td>\n      <td>0.000000</td>\n      <td>0.000000</td>\n      <td>0.0000</td>\n      <td>0.000000</td>\n      <td>0.000000</td>\n    </tr>\n    <tr>\n      <th>7149118</th>\n      <td>39999933.0</td>\n      <td>0</td>\n      <td>0.000000</td>\n      <td>0.000000</td>\n      <td>0.000000</td>\n      <td>0.000000</td>\n      <td>0.000000</td>\n      <td>0.000000</td>\n      <td>0.00000</td>\n      <td>0.000000</td>\n      <td>...</td>\n      <td>0.0</td>\n      <td>0.000000</td>\n      <td>0.000000</td>\n      <td>0.000000</td>\n      <td>0.000000</td>\n      <td>0.000000</td>\n      <td>0.000000</td>\n      <td>0.0000</td>\n      <td>0.000000</td>\n      <td>0.000000</td>\n    </tr>\n    <tr>\n      <th>7149119</th>\n      <td>39999933.0</td>\n      <td>0</td>\n      <td>0.000000</td>\n      <td>0.000000</td>\n      <td>0.000000</td>\n      <td>0.000000</td>\n      <td>0.000000</td>\n      <td>0.000000</td>\n      <td>0.00000</td>\n      <td>0.000000</td>\n      <td>...</td>\n      <td>0.0</td>\n      <td>0.000000</td>\n      <td>0.000000</td>\n      <td>0.000000</td>\n      <td>0.000000</td>\n      <td>0.000000</td>\n      <td>0.000000</td>\n      <td>0.0000</td>\n      <td>0.000000</td>\n      <td>0.000000</td>\n    </tr>\n  </tbody>\n</table>\n<p>5719296 rows × 122 columns</p>\n</div>"
     },
     "execution_count": 32,
     "metadata": {},
     "output_type": "execute_result"
    }
   ],
   "source": [
    "train_df"
   ],
   "metadata": {
    "collapsed": false,
    "ExecuteTime": {
     "end_time": "2023-12-28T04:50:28.921465600Z",
     "start_time": "2023-12-28T04:50:27.453354100Z"
    }
   },
   "id": "f33fb3381d0a9ca8"
  },
  {
   "cell_type": "code",
   "execution_count": 33,
   "outputs": [
    {
     "name": "stdout",
     "output_type": "stream",
     "text": [
      "238304\n",
      "47661\n",
      "11916\n"
     ]
    }
   ],
   "source": [
    "print(len(train_df['stay_id'].unique()))\n",
    "print(len(test_df['stay_id'].unique()))\n",
    "print(len(val_df['stay_id'].unique()))"
   ],
   "metadata": {
    "collapsed": false,
    "ExecuteTime": {
     "end_time": "2023-12-28T04:50:29.053941400Z",
     "start_time": "2023-12-28T04:50:28.922463900Z"
    }
   },
   "id": "7fcf91ac6055669b"
  },
  {
   "cell_type": "code",
   "execution_count": 34,
   "outputs": [],
   "source": [
    "train_x=train_df.drop(['stay_id','time','label_after_1hour','label_after_2hour','label_after_3hour','label_after_4hour','label_after_5hour','label_after_6hour'],axis='columns')\n",
    "train_y=train_df[name]\n",
    "test_x=test_df.drop(['stay_id','time','label_after_1hour','label_after_2hour','label_after_3hour','label_after_4hour','label_after_5hour','label_after_6hour'],axis='columns')\n",
    "test_y=test_df[name]\n",
    "val_x=val_df.drop(['stay_id','time','label_after_1hour','label_after_2hour','label_after_3hour','label_after_4hour','label_after_5hour','label_after_6hour'],axis='columns')\n",
    "val_y=val_df[name]"
   ],
   "metadata": {
    "collapsed": false,
    "ExecuteTime": {
     "end_time": "2023-12-28T04:50:30.366402100Z",
     "start_time": "2023-12-28T04:50:29.016699400Z"
    }
   },
   "id": "e74f0a575daedb70"
  },
  {
   "cell_type": "code",
   "execution_count": 35,
   "outputs": [],
   "source": [
    "train_x = train_x.astype(np.float32)\n",
    "train_y = train_y.astype(np.float32)\n",
    "test_x = test_x.astype(np.float32)\n",
    "test_y = test_y.astype(np.float32)\n",
    "val_x = val_x.astype(np.float32)\n",
    "val_y = val_y.astype(np.float32)\n",
    "train_x = train_x.to_numpy()\n",
    "train_y = train_y.to_numpy()\n",
    "test_x = test_x.to_numpy()\n",
    "test_y = test_y.to_numpy()\n",
    "val_x = val_x.to_numpy()\n",
    "val_y = val_y.to_numpy()\n",
    "train_data_x_reshaped = train_x.reshape((len(train_df['stay_id'].unique()), 24, 114))\n",
    "train_data_y_reshaped = train_y.reshape((len(train_df['stay_id'].unique()), 24,1))\n",
    "test_data_x_reshaped = test_x.reshape((len(test_df['stay_id'].unique()), 24, 114))\n",
    "test_data_y_reshaped = test_y.reshape((len(test_df['stay_id'].unique()), 24, 1))\n",
    "val_x_reshaped = val_x.reshape((len(val_df['stay_id'].unique()), 24, 114))\n",
    "val_y_reshaped = val_y.reshape((len(val_df['stay_id'].unique()), 24, 1))"
   ],
   "metadata": {
    "collapsed": false,
    "ExecuteTime": {
     "end_time": "2023-12-28T04:50:31.888710400Z",
     "start_time": "2023-12-28T04:50:30.371521Z"
    }
   },
   "id": "46e331a1f053080c"
  },
  {
   "cell_type": "code",
   "execution_count": 36,
   "outputs": [
    {
     "data": {
      "text/plain": "(238304, 24, 1)"
     },
     "execution_count": 36,
     "metadata": {},
     "output_type": "execute_result"
    }
   ],
   "source": [
    "train_data_y_reshaped.shape"
   ],
   "metadata": {
    "collapsed": false,
    "ExecuteTime": {
     "end_time": "2023-12-28T04:50:31.931770300Z",
     "start_time": "2023-12-28T04:50:31.889403300Z"
    }
   },
   "id": "2aa1f015bf574f6a"
  },
  {
   "cell_type": "code",
   "execution_count": 37,
   "outputs": [
    {
     "data": {
      "text/plain": "(24, 1)"
     },
     "execution_count": 37,
     "metadata": {},
     "output_type": "execute_result"
    }
   ],
   "source": [
    "train_data_y_reshaped[0].shape"
   ],
   "metadata": {
    "collapsed": false,
    "ExecuteTime": {
     "end_time": "2023-12-28T04:50:31.965070100Z",
     "start_time": "2023-12-28T04:50:31.904649Z"
    }
   },
   "id": "7609a7cfba36991b"
  },
  {
   "cell_type": "code",
   "execution_count": 38,
   "outputs": [],
   "source": [
    "largest_values = np.max(train_data_y_reshaped, axis=1, keepdims=True) \n",
    "train_data_y_reshaped_1 = largest_values.reshape(len(train_df['stay_id'].unique()), 1, 1)\n",
    "\n",
    "largest_values = np.max(test_data_y_reshaped, axis=1, keepdims=True) \n",
    "test_data_y_reshaped_1 = largest_values.reshape(len(test_df['stay_id'].unique()), 1, 1)\n",
    "\n",
    "largest_values = np.max(val_y_reshaped, axis=1, keepdims=True) \n",
    "val_y_reshaped_1 = largest_values.reshape(len(val_df['stay_id'].unique()), 1, 1)"
   ],
   "metadata": {
    "collapsed": false,
    "ExecuteTime": {
     "end_time": "2023-12-28T04:50:32.182448700Z",
     "start_time": "2023-12-28T04:50:31.922780300Z"
    }
   },
   "id": "b5d052b9510c023b"
  },
  {
   "cell_type": "code",
   "execution_count": 39,
   "outputs": [
    {
     "data": {
      "text/plain": "array([[0.]], dtype=float32)"
     },
     "execution_count": 39,
     "metadata": {},
     "output_type": "execute_result"
    }
   ],
   "source": [
    "train_data_y_reshaped_1[0]"
   ],
   "metadata": {
    "collapsed": false,
    "ExecuteTime": {
     "end_time": "2023-12-28T04:50:32.184637900Z",
     "start_time": "2023-12-28T04:50:32.031727800Z"
    }
   },
   "id": "dbbb7875c7028624"
  },
  {
   "cell_type": "code",
   "execution_count": 40,
   "outputs": [],
   "source": [
    "train_dataset = TensorDataset(torch.tensor(train_data_x_reshaped),torch.tensor(train_data_y_reshaped_1)) \n",
    "train_dataloader = DataLoader(train_dataset, batch_size=128, shuffle=True) \n",
    "\n",
    "valid_dataset = TensorDataset(torch.tensor(val_x_reshaped),torch.tensor(val_y_reshaped_1))\n",
    "valid_dataloader = DataLoader(valid_dataset, batch_size=128, shuffle=True)\n",
    "\n",
    "test_dataset = TensorDataset(torch.tensor(test_data_x_reshaped),torch.tensor(test_data_y_reshaped_1)) \n",
    "test_dataloader = DataLoader(test_dataset, batch_size=128, shuffle=False) "
   ],
   "metadata": {
    "collapsed": false,
    "ExecuteTime": {
     "end_time": "2023-12-28T04:50:32.653638700Z",
     "start_time": "2023-12-28T04:50:32.048732700Z"
    }
   },
   "id": "bfe9d95bacbc0cde"
  },
  {
   "cell_type": "code",
   "execution_count": 41,
   "outputs": [
    {
     "data": {
      "text/plain": "device(type='cuda', index=0)"
     },
     "execution_count": 41,
     "metadata": {},
     "output_type": "execute_result"
    }
   ],
   "source": [
    "device = torch.device(\"cuda:0\" if torch.cuda.is_available() else \"cpu\")\n",
    "device"
   ],
   "metadata": {
    "collapsed": false,
    "ExecuteTime": {
     "end_time": "2023-12-28T04:50:32.721392100Z",
     "start_time": "2023-12-28T04:50:32.655571Z"
    }
   },
   "id": "e1c63633098d9a61"
  },
  {
   "cell_type": "code",
   "execution_count": 42,
   "outputs": [],
   "source": [
    "sequence_length = 24 # \n",
    "feature_size = 114 # \n",
    "hidden_size = 256 # Hidden Layer 사이즈 설정처럼 설정\n",
    "num_layers = 4 # stacked RNN (최대 4개까지는 Gradient Vanishing 현상이 적을 수 있으므로)\n",
    "dropout_p = 0.3 # dropout rate\n",
    "output_size = 1 # \n",
    "#minibatch_size = 128 # minibatch_size"
   ],
   "metadata": {
    "collapsed": false,
    "ExecuteTime": {
     "end_time": "2023-12-28T04:50:32.742984600Z",
     "start_time": "2023-12-28T04:50:32.672713400Z"
    }
   },
   "id": "85228aba35629eb7"
  },
  {
   "cell_type": "code",
   "execution_count": 43,
   "outputs": [],
   "source": [
    "class Net(nn.Module):\n",
    "    def __init__(self, feature_size, hidden_size, num_layers, dropout_p, output_size, model_type):\n",
    "        super().__init__()\n",
    "        if model_type == 'rnn':\n",
    "            self.sequenceclassifier = nn.RNN(\n",
    "                input_size = feature_size,\n",
    "                hidden_size = hidden_size,\n",
    "                num_layers = num_layers,\n",
    "                batch_first = True,\n",
    "                dropout = dropout_p,\n",
    "                bidirectional = True\n",
    "            )\n",
    "        elif model_type == 'lstm':\n",
    "            self.sequenceclassifier = nn.LSTM(\n",
    "                input_size = feature_size,\n",
    "                hidden_size = hidden_size,\n",
    "                num_layers = num_layers,\n",
    "                batch_first = True,\n",
    "                dropout = dropout_p,\n",
    "                bidirectional = True\n",
    "            )\n",
    "        self.layers = nn.Sequential(\n",
    "            nn.LeakyReLU(0.1),\n",
    "            nn.BatchNorm1d(hidden_size * 2*24),\n",
    "            # self.rnn() 의 출력값은 (batch_size, sequence_length, bidirections * hidden_size)\n",
    "            # bidirectional 이 True 이므로, bidirections 는 2, 즉 2 * hidden_size\n",
    "            nn.Linear(hidden_size * 2*24, output_size),\n",
    "            nn.Sigmoid() \n",
    "            #nn.LogSoftmax(dim=-1)\n",
    "        )\n",
    "\n",
    "    def forward(self, x):\n",
    "        # |x| = batch_first=True 이므로 (batch_size, sequence_length, input_size)\n",
    "        out, _ = self.sequenceclassifier(x) # output, h_n 이므로, h_n 은 사용안함\n",
    "        # output, h_n 이므로, h_n 은 사용안함\n",
    "        # |out| = batch_first=True 이므로 (batch_size, sequence_length, 2 * hidden_size)\n",
    "        # bidirectional 이 True 이면, bidirections 는 2 * hidden_size\n",
    "        #print(out.shape)\n",
    "        out = out.reshape(out.size(0), -1)\n",
    "        #print(out.shape)\n",
    "        # out[:, -1] 은 (batch_size, sequence_length, 2 * hidden_size) 에서, \n",
    "        # 전체 batch_size 를 선택한다는 의미가 :, \n",
    "        # sequence_length 인 28개의 순서가 있고, 각 순서마다 2 * hidden_size 만큼 있음\n",
    "        # 이중에 최종 값은 맨 마지막  sequence_length 의 2 * hidden_size 임\n",
    "        # |out| = (batch_size, hidden_size * 2)\n",
    "        y = self.layers(out)\n",
    "        # |y| = (batch_size, output_size)\n",
    "        return y"
   ],
   "metadata": {
    "collapsed": false,
    "ExecuteTime": {
     "end_time": "2023-12-28T04:50:32.754002400Z",
     "start_time": "2023-12-28T04:50:32.690262700Z"
    }
   },
   "id": "24929051bec705f0"
  },
  {
   "cell_type": "code",
   "execution_count": 44,
   "outputs": [
    {
     "data": {
      "text/plain": "Net(\n  (sequenceclassifier): LSTM(114, 256, num_layers=4, batch_first=True, dropout=0.3, bidirectional=True)\n  (layers): Sequential(\n    (0): LeakyReLU(negative_slope=0.1)\n    (1): BatchNorm1d(12288, eps=1e-05, momentum=0.1, affine=True, track_running_stats=True)\n    (2): Linear(in_features=12288, out_features=1, bias=True)\n    (3): Sigmoid()\n  )\n)"
     },
     "execution_count": 44,
     "metadata": {},
     "output_type": "execute_result"
    }
   ],
   "source": [
    "model = Net(feature_size, hidden_size, num_layers, dropout_p, output_size, 'lstm').to(device)\n",
    "model"
   ],
   "metadata": {
    "collapsed": false,
    "ExecuteTime": {
     "end_time": "2023-12-28T04:50:32.899137300Z",
     "start_time": "2023-12-28T04:50:32.701351700Z"
    }
   },
   "id": "4771e499fc10d79a"
  },
  {
   "cell_type": "code",
   "execution_count": 45,
   "outputs": [
    {
     "name": "stdout",
     "output_type": "stream",
     "text": [
      "0.11718523548565861 0.09532626140169165 0.09532626140169165 0 0\n",
      "0.08407691175420193 0.08431147654203976 0.08431147654203976 3 3\n",
      "0.0742474691197076 0.08955786943911238 0.08431147654203976 3 6\n",
      "0.05395257091709882 0.0998444142553242 0.08431147654203976 3 9\n",
      "0.03842651040808955 0.12556487575490424 0.08431147654203976 3 12\n",
      "0.02954622162334675 0.12458721920847893 0.08431147654203976 3 15\n",
      "0.023452959739273364 0.13188143953324316 0.08431147654203976 3 18\n",
      "0.01919411475167842 0.16347773187853237 0.08431147654203976 3 21\n",
      "0.016187393056284027 0.17251400260299327 0.08431147654203976 3 24\n",
      "0.013795887168217563 0.17386220867170932 0.08431147654203976 3 27\n",
      "0.012581449175829897 0.19579874139596173 0.08431147654203976 3 30\n",
      "0.0117293684967524 0.15839614861823142 0.08431147654203976 3 33\n",
      "Early Stopped 34 epochs\n"
     ]
    }
   ],
   "source": [
    "from copy import deepcopy\n",
    "\n",
    "#loss_func = F.binary_cross_entropy() # log softmax 는 NLLLoss() 로 진행해야 함\n",
    "optimizer = torch.optim.Adam(model.parameters()) # Adam, learning rate 필요없음\n",
    "\n",
    "def train_model(model, early_stop, n_epochs, progress_interval):\n",
    "    \n",
    "    train_losses, valid_losses, lowest_loss = list(), list(), np.inf\n",
    "\n",
    "    for epoch in range(n_epochs):\n",
    "        \n",
    "        train_loss, valid_loss = 0, 0\n",
    "        \n",
    "        # train the model\n",
    "        model.train() # prep model for training\n",
    "        for x_minibatch, y_minibatch in train_dataloader:\n",
    "            x_minibatch, y_minibatch = x_minibatch.to(device), y_minibatch.to(device) \n",
    "            y_minibatch_pred = model(x_minibatch)\n",
    "            true_y = y_minibatch[:, 0]\n",
    "            loss = F.binary_cross_entropy(y_minibatch_pred , true_y )\n",
    "\n",
    "            optimizer.zero_grad()\n",
    "            loss.backward()\n",
    "            optimizer.step()\n",
    "            train_loss += loss.item()\n",
    "        \n",
    "        train_loss = train_loss / len(train_dataloader)\n",
    "        train_losses.append(train_loss)      \n",
    "        \n",
    "        # validate the model\n",
    "        model.eval()\n",
    "        with torch.no_grad():\n",
    "            for x_minibatch, y_minibatch in valid_dataloader:\n",
    "                x_minibatch, y_minibatch = x_minibatch.to(device), y_minibatch.to(device) \n",
    "                y_minibatch_pred = model(x_minibatch)\n",
    "                true_y = y_minibatch[:, 0]\n",
    "                loss = F.binary_cross_entropy(y_minibatch_pred , true_y )\n",
    "                #loss = loss_func(y_minibatch_pred , y_minibatch )\n",
    "                valid_loss += loss.item()\n",
    "                \n",
    "        valid_loss = valid_loss / len(valid_dataloader)\n",
    "        valid_losses.append(valid_loss)\n",
    "\n",
    "        if valid_losses[-1] < lowest_loss:\n",
    "            lowest_loss = valid_losses[-1]\n",
    "            lowest_epoch = epoch\n",
    "            best_model = deepcopy(model.state_dict())\n",
    "        else:\n",
    "            if (early_stop > 0) and lowest_epoch + early_stop < epoch:\n",
    "                print (\"Early Stopped\", epoch, \"epochs\")\n",
    "                break\n",
    "                \n",
    "        if (epoch % progress_interval) == 0:\n",
    "            print (train_losses[-1], valid_losses[-1], lowest_loss, lowest_epoch, epoch)\n",
    "            \n",
    "    model.load_state_dict(best_model)        \n",
    "    return model, lowest_loss, train_losses, valid_losses\n",
    "\n",
    "nb_epochs = 1000\n",
    "progress_interval = 3\n",
    "early_stop = 30\n",
    "\n",
    "model, lowest_loss, train_losses, valid_losses = train_model(model, early_stop, nb_epochs, progress_interval)"
   ],
   "metadata": {
    "collapsed": false,
    "ExecuteTime": {
     "end_time": "2023-12-28T05:10:13.860700400Z",
     "start_time": "2023-12-28T04:50:32.776870200Z"
    }
   },
   "id": "5d4316c81cd51090"
  },
  {
   "cell_type": "code",
   "execution_count": 46,
   "outputs": [
    {
     "name": "stderr",
     "output_type": "stream",
     "text": [
      "100%|██████████| 373/373 [00:04<00:00, 91.72it/s] \n"
     ]
    },
    {
     "name": "stdout",
     "output_type": "stream",
     "text": [
      "Accuracy: 0.9667023352426513\n",
      "Precision: 0.5287958115183246\n",
      "Recall: 0.4248798076923077\n",
      "Confusion Matrix:\n",
      "[[45367   630]\n",
      " [  957   707]]\n",
      "AUROC: 0.9399657818925481\n",
      "AUPRC: 0.4687344433993684\n"
     ]
    }
   ],
   "source": [
    "from sklearn.metrics import accuracy_score, precision_score, recall_score, confusion_matrix\n",
    "from sklearn.metrics import roc_auc_score, average_precision_score\n",
    "from tqdm import tqdm\n",
    "\n",
    "# ...\n",
    "\n",
    "# Assuming you have a test_dataloader for your test data\n",
    "#test_loss = test_model(model, test_dataloader)\n",
    "#print(f'Test Loss: {test_loss}')\n",
    "\n",
    "# Evaluate additional metrics\n",
    "model.eval()\n",
    "all_true_labels = []\n",
    "all_pred_probs = []\n",
    "\n",
    "with torch.no_grad():\n",
    "    for x_minibatch, y_minibatch in tqdm(test_dataloader):\n",
    "        x_minibatch, y_minibatch = x_minibatch.to(device), y_minibatch.to(device) \n",
    "        y_minibatch_pred = model(x_minibatch)\n",
    "        true_y = y_minibatch[:, 0].cpu().numpy().astype(int)\n",
    "        pred_probs = y_minibatch_pred.cpu().numpy()\n",
    "\n",
    "        all_true_labels.extend(true_y)\n",
    "        all_pred_probs.extend(pred_probs.flatten())\n",
    "\n",
    "# Convert probabilities to binary predictions using a threshold (e.g., 0.4)\n",
    "threshold = 0.30\n",
    "all_pred_labels = (np.array(all_pred_probs) > threshold).astype(int)\n",
    "\n",
    "# Calculate metrics\n",
    "accuracy = accuracy_score(all_true_labels, all_pred_labels)\n",
    "precision = precision_score(all_true_labels, all_pred_labels)\n",
    "recall = recall_score(all_true_labels, all_pred_labels)\n",
    "conf_matrix = confusion_matrix(all_true_labels, all_pred_labels)\n",
    "\n",
    "# Calculate AUROC and AUPRC\n",
    "auroc = roc_auc_score(all_true_labels, all_pred_probs)\n",
    "auprc = average_precision_score(all_true_labels, all_pred_probs)\n",
    "\n",
    "print(f'Accuracy: {accuracy}')\n",
    "print(f'Precision: {precision}')\n",
    "print(f'Recall: {recall}')\n",
    "print(f'Confusion Matrix:\\n{conf_matrix}')\n",
    "print(f'AUROC: {auroc}')\n",
    "print(f'AUPRC: {auprc}')\n"
   ],
   "metadata": {
    "collapsed": false,
    "ExecuteTime": {
     "end_time": "2023-12-28T05:10:24.050588800Z",
     "start_time": "2023-12-28T05:10:19.293670100Z"
    }
   },
   "id": "2aa2b10e39dd5c2b"
  },
  {
   "cell_type": "code",
   "execution_count": 23,
   "outputs": [
    {
     "data": {
      "text/plain": "<Figure size 1000x600 with 1 Axes>",
      "image/png": "[encoded data removed]"
     },
     "metadata": {},
     "output_type": "display_data"
    },
    {
     "data": {
      "text/plain": "<Figure size 1000x600 with 1 Axes>",
      "image/png": "[encoded data removed]"
     },
     "metadata": {},
     "output_type": "display_data"
    }
   ],
   "source": [
    "import matplotlib.pyplot as plt\n",
    "from sklearn.metrics import roc_curve, precision_recall_curve, auc\n",
    "\n",
    "# ROC Curve\n",
    "fpr, tpr, _ = roc_curve(all_true_labels, all_pred_probs)\n",
    "roc_auc = auc(fpr, tpr)\n",
    "\n",
    "plt.figure(figsize=(10, 6))\n",
    "plt.plot(fpr, tpr, color='darkorange', lw=2, label=f'ROC curve (area = {roc_auc:.2f})')\n",
    "plt.plot([0, 1], [0, 1], color='navy', lw=2, linestyle='--')\n",
    "plt.xlabel('False Positive Rate')\n",
    "plt.ylabel('True Positive Rate')\n",
    "plt.title('Receiver Operating Characteristic (ROC) Curve')\n",
    "plt.legend(loc='lower right')\n",
    "plt.show()\n",
    "\n",
    "# Precision-Recall Curve\n",
    "precision, recall, _ = precision_recall_curve(all_true_labels, all_pred_probs)\n",
    "auprc = average_precision_score(all_true_labels, all_pred_probs)\n",
    "\n",
    "plt.figure(figsize=(10, 6))\n",
    "plt.step(recall, precision, color='b', alpha=0.2, where='post')\n",
    "plt.fill_between(recall, precision, step='post', alpha=0.2, color='b')\n",
    "plt.xlabel('Recall')\n",
    "plt.ylabel('Precision')\n",
    "plt.ylim([0.0, 1.05])\n",
    "plt.xlim([0.0, 1.0])\n",
    "plt.title('Precision-Recall Curve (AUPRC = {:.2f})'.format(auprc))\n",
    "plt.show()\n"
   ],
   "metadata": {
    "collapsed": false,
    "ExecuteTime": {
     "end_time": "2023-12-28T04:47:09.809289500Z",
     "start_time": "2023-12-28T04:47:08.928261100Z"
    }
   },
   "id": "db1a753af9892c6"
  },
  {
   "cell_type": "code",
   "execution_count": 3,
   "outputs": [
    {
     "name": "stdout",
     "output_type": "stream",
     "text": [
      "Total L1 Loss: 0.5\n"
     ]
    }
   ],
   "source": [
    "import torch\n",
    "import torch.nn as nn\n",
    "\n",
    "# Example predicted and target values\n",
    "predicted = torch.tensor([1.0, 3.0, 3.0])\n",
    "target = torch.tensor([2.0, 2.0, 3.0])\n",
    "\n",
    "# Instantiate the L1Loss with 'sum' reduction\n",
    "criterion = nn.L1Loss(reduction='sum')\n",
    "\n",
    "# Calculate the loss\n",
    "loss = criterion((predicted*mask)/mask.sum(), (target*mask)/mask.sum())\n",
    "\n",
    "print(\"Total L1 Loss:\", loss.item())"
   ],
   "metadata": {
    "collapsed": false,
    "ExecuteTime": {
     "end_time": "2024-01-05T13:36:55.969816100Z",
     "start_time": "2024-01-05T13:36:55.916445700Z"
    }
   },
   "id": "581c903c7d1a1569"
  },
  {
   "cell_type": "code",
   "execution_count": 2,
   "outputs": [],
   "source": [
    "mask=[1,0,1]\n",
    "mask=torch.tensor(mask)"
   ],
   "metadata": {
    "collapsed": false,
    "ExecuteTime": {
     "end_time": "2024-01-05T13:36:53.738939900Z",
     "start_time": "2024-01-05T13:36:53.690775600Z"
    }
   },
   "id": "a409f30825074227"
  },
  {
   "cell_type": "code",
   "execution_count": 54,
   "outputs": [
    {
     "data": {
      "text/plain": "tensor(2)"
     },
     "execution_count": 54,
     "metadata": {},
     "output_type": "execute_result"
    }
   ],
   "source": [
    "mask.sum()"
   ],
   "metadata": {
    "collapsed": false,
    "ExecuteTime": {
     "end_time": "2024-01-05T11:35:41.729491Z",
     "start_time": "2024-01-05T11:35:41.645313100Z"
    }
   },
   "id": "3194682f30b6365f"
  },
  {
   "cell_type": "code",
   "execution_count": 13,
   "outputs": [
    {
     "name": "stdout",
     "output_type": "stream",
     "text": [
      "Total L1 Loss: 1.0\n"
     ]
    },
    {
     "name": "stderr",
     "output_type": "stream",
     "text": [
      "C:\\Users\\DAHS\\AppData\\Local\\anaconda3\\envs\\torch\\lib\\site-packages\\torch\\nn\\modules\\loss.py:96: UserWarning: Using a target size (torch.Size([2, 3])) that is different to the input size (torch.Size([1, 2, 3])). This will likely lead to incorrect results due to broadcasting. Please ensure they have the same size.\n",
      "  return F.l1_loss(input, target, reduction=self.reduction)\n"
     ]
    }
   ],
   "source": [
    "import torch\n",
    "import torch.nn as nn\n",
    "\n",
    "# Example predicted and target values\n",
    "predicted = torch.tensor([[[1.0, 3.0, 3.0],[1,2,4]]])\n",
    "target = torch.tensor([[2.0, 2.0, 3.0],[1,3,5]])\n",
    "\n",
    "# Instantiate the L1Loss with 'sum' reduction\n",
    "criterion = nn.L1Loss(reduction='sum')\n",
    "\n",
    "# Calculate the loss\n",
    "loss = criterion(predicted*mask ,target*mask)\n",
    "loss= loss/mask.sum()\n",
    "\n",
    "\n",
    "print(\"Total L1 Loss:\", loss.item())"
   ],
   "metadata": {
    "collapsed": false,
    "ExecuteTime": {
     "end_time": "2024-01-05T13:38:43.327601100Z",
     "start_time": "2024-01-05T13:38:43.248746100Z"
    }
   },
   "id": "57ca949ec181bf33"
  },
  {
   "cell_type": "code",
   "execution_count": 25,
   "outputs": [
    {
     "data": {
      "text/plain": "tensor([[[2., 5., 7.]]])"
     },
     "execution_count": 25,
     "metadata": {},
     "output_type": "execute_result"
    }
   ],
   "source": [
    "torch.sum(predicted, axis = 1, keepdim=True)#.reshape(2,1)"
   ],
   "metadata": {
    "collapsed": false,
    "ExecuteTime": {
     "end_time": "2024-01-05T15:49:21.813599300Z",
     "start_time": "2024-01-05T15:49:21.735469800Z"
    }
   },
   "id": "163f7cddfeb6a66"
  },
  {
   "cell_type": "code",
   "execution_count": 14,
   "outputs": [
    {
     "data": {
      "text/plain": "torch.Size([1, 2, 3])"
     },
     "execution_count": 14,
     "metadata": {},
     "output_type": "execute_result"
    }
   ],
   "source": [
    "predicted."
   ],
   "metadata": {
    "collapsed": false,
    "ExecuteTime": {
     "end_time": "2024-01-05T13:38:44.496387300Z",
     "start_time": "2024-01-05T13:38:44.452566500Z"
    }
   },
   "id": "83cd0e308cb73e78"
  },
  {
   "cell_type": "code",
   "execution_count": 15,
   "outputs": [
    {
     "data": {
      "text/plain": "torch.Size([2, 3])"
     },
     "execution_count": 15,
     "metadata": {},
     "output_type": "execute_result"
    }
   ],
   "source": [
    "target.shape"
   ],
   "metadata": {
    "collapsed": false,
    "ExecuteTime": {
     "end_time": "2024-01-05T13:38:45.401814900Z",
     "start_time": "2024-01-05T13:38:45.371354600Z"
    }
   },
   "id": "539c40fff8523cdc"
  },
  {
   "cell_type": "code",
   "execution_count": null,
   "outputs": [],
   "source": [],
   "metadata": {
    "collapsed": false
   },
   "id": "7101900085e7dbd"
  }
 ],
 "metadata": {
  "kernelspec": {
   "display_name": "Python 3",
   "language": "python",
   "name": "python3"
  },
  "language_info": {
   "codemirror_mode": {
    "name": "ipython",
    "version": 2
   },
   "file_extension": ".py",
   "mimetype": "text/x-python",
   "name": "python",
   "nbconvert_exporter": "python",
   "pygments_lexer": "ipython2",
   "version": "2.7.6"
  }
 },
 "nbformat": 4,
 "nbformat_minor": 5
}
